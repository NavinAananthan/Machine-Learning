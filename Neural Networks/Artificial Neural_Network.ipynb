{
  "cells": [
    {
      "cell_type": "markdown",
      "metadata": {
        "id": "vM2dFRPssuDx"
      },
      "source": [
        "**Neural Networks**\n",
        "\n",
        "This exercise is based how neural networks works and what are the function used in it to predict and optimize the dataset."
      ]
    },
    {
      "cell_type": "code",
      "execution_count": 96,
      "metadata": {
        "id": "Iy-2GOTusq78"
      },
      "outputs": [],
      "source": [
        "from tensorflow import keras\n",
        "import tensorflow as tf\n",
        "import numpy as np\n",
        "import cv2\n",
        "from PIL import Image,ImageOps\n",
        "from matplotlib import pyplot as plt"
      ]
    },
    {
      "cell_type": "code",
      "execution_count": 2,
      "metadata": {
        "id": "BmOA3vwkkNGa"
      },
      "outputs": [],
      "source": [
        "model=keras.Sequential([keras.layers.Dense(units=1,input_shape=[1])])\n",
        "model.compile(optimizer='sgd',loss='mean_squared_error')"
      ]
    },
    {
      "cell_type": "code",
      "execution_count": 3,
      "metadata": {
        "id": "TQcVbipykb3-"
      },
      "outputs": [],
      "source": [
        "x=np.array([-1.0,0.0,1.0,2.0,3.0,4.0])\n",
        "y=np.array([-3.0,-1.0,1.0,3.0,5.0,7.0])"
      ]
    },
    {
      "cell_type": "code",
      "execution_count": null,
      "metadata": {
        "colab": {
          "base_uri": "https://localhost:8080/"
        },
        "id": "_sWypFUpkth4",
        "outputId": "6b0622a5-605f-4fec-e498-9ea29d86d194"
      },
      "outputs": [
        {
          "name": "stdout",
          "output_type": "stream",
          "text": [
            "Epoch 1/10\n",
            "1/1 [==============================] - 0s 15ms/step - loss: 8.3096e-06\n",
            "Epoch 2/10\n",
            "1/1 [==============================] - 0s 12ms/step - loss: 8.1393e-06\n",
            "Epoch 3/10\n",
            "1/1 [==============================] - 0s 10ms/step - loss: 7.9718e-06\n",
            "Epoch 4/10\n",
            "1/1 [==============================] - 0s 9ms/step - loss: 7.8081e-06\n",
            "Epoch 5/10\n",
            "1/1 [==============================] - 0s 8ms/step - loss: 7.6478e-06\n",
            "Epoch 6/10\n",
            "1/1 [==============================] - 0s 13ms/step - loss: 7.4909e-06\n",
            "Epoch 7/10\n",
            "1/1 [==============================] - 0s 11ms/step - loss: 7.3368e-06\n",
            "Epoch 8/10\n",
            "1/1 [==============================] - 0s 8ms/step - loss: 7.1865e-06\n",
            "Epoch 9/10\n",
            "1/1 [==============================] - 0s 7ms/step - loss: 7.0390e-06\n",
            "Epoch 10/10\n",
            "1/1 [==============================] - 0s 9ms/step - loss: 6.8940e-06\n",
            "1/1 [==============================] - 0s 31ms/step\n",
            "[[18.992338]]\n"
          ]
        }
      ],
      "source": [
        "model.fit(x,y,epochs=10)\n",
        "print(model.predict([10.0]))"
      ]
    },
    {
      "cell_type": "markdown",
      "metadata": {
        "id": "2QCfI9yhr9Rb"
      },
      "source": [
        "**Loading Image DataSet**\n",
        "\n",
        "In this we will see on how to load image dataset from tensorflow and use them predict it .\n",
        "\n",
        "We then create a neural network model and use it for predicting the minst fashion data set"
      ]
    },
    {
      "cell_type": "code",
      "execution_count": 144,
      "metadata": {
        "id": "hYl5PzBLkvB1"
      },
      "outputs": [],
      "source": [
        "# Loading the fashion mnist dataset\n",
        "fashion_data=tf.keras.datasets.fashion_mnist\n",
        "\n",
        "# Loading the dataset\n",
        "(train_images,train_labels),(test_images,test_labels)=fashion_data.load_data()"
      ]
    },
    {
      "cell_type": "code",
      "execution_count": 145,
      "metadata": {
        "id": "etBOKe7Pt0uc"
      },
      "outputs": [],
      "source": [
        "# Coding the layers\n",
        "\n",
        "# Preprocessing the image (Normalizing the values to the range)\n",
        "train_images = train_images/255.0\n",
        "test_images = test_images/255.0\n",
        "\n",
        "\n",
        "model=keras.Sequential([\n",
        "    keras.layers.Flatten(input_shape=(28, 28, 1)), # The size of the image 28x28 pixels\n",
        "    keras.layers.Dense(units=128,activation=tf.nn.relu), # There are 128 units inside\n",
        "    keras.layers.Dense(units=10,activation=tf.nn.softmax) # The output is for classifying 10 so we give units as 10\n",
        "])\n"
      ]
    },
    {
      "cell_type": "code",
      "execution_count": 146,
      "metadata": {
        "colab": {
          "base_uri": "https://localhost:8080/"
        },
        "id": "7yau-mJ76ajo",
        "outputId": "b46f347b-5669-4a20-bceb-b2fdead6f374"
      },
      "outputs": [
        {
          "output_type": "stream",
          "name": "stdout",
          "text": [
            "Epoch 1/20\n",
            "1875/1875 [==============================] - 7s 3ms/step - loss: 0.4940 - accuracy: 0.8255\n",
            "Epoch 2/20\n",
            "1875/1875 [==============================] - 6s 3ms/step - loss: 0.3705 - accuracy: 0.8650\n",
            "Epoch 3/20\n",
            "1875/1875 [==============================] - 6s 3ms/step - loss: 0.3359 - accuracy: 0.8768\n",
            "Epoch 4/20\n",
            "1875/1875 [==============================] - 6s 3ms/step - loss: 0.3109 - accuracy: 0.8863\n",
            "Epoch 5/20\n",
            "1875/1875 [==============================] - 6s 3ms/step - loss: 0.2933 - accuracy: 0.8910\n",
            "Epoch 6/20\n",
            "1875/1875 [==============================] - 6s 3ms/step - loss: 0.2786 - accuracy: 0.8966\n",
            "Epoch 7/20\n",
            "1875/1875 [==============================] - 6s 3ms/step - loss: 0.2661 - accuracy: 0.9024\n",
            "Epoch 8/20\n",
            "1875/1875 [==============================] - 6s 3ms/step - loss: 0.2531 - accuracy: 0.9050\n",
            "Epoch 9/20\n",
            "1875/1875 [==============================] - 7s 3ms/step - loss: 0.2453 - accuracy: 0.9077\n",
            "Epoch 10/20\n",
            "1875/1875 [==============================] - 6s 3ms/step - loss: 0.2353 - accuracy: 0.9133\n",
            "Epoch 11/20\n",
            "1875/1875 [==============================] - 6s 3ms/step - loss: 0.2303 - accuracy: 0.9134\n",
            "Epoch 12/20\n",
            "1875/1875 [==============================] - 6s 3ms/step - loss: 0.2204 - accuracy: 0.9165\n",
            "Epoch 13/20\n",
            "1875/1875 [==============================] - 6s 3ms/step - loss: 0.2154 - accuracy: 0.9193\n",
            "Epoch 14/20\n",
            "1875/1875 [==============================] - 6s 3ms/step - loss: 0.2070 - accuracy: 0.9220\n",
            "Epoch 15/20\n",
            "1875/1875 [==============================] - 7s 4ms/step - loss: 0.2028 - accuracy: 0.9232\n",
            "Epoch 16/20\n",
            "1875/1875 [==============================] - 7s 3ms/step - loss: 0.1970 - accuracy: 0.9262\n",
            "Epoch 17/20\n",
            "1875/1875 [==============================] - 7s 3ms/step - loss: 0.1930 - accuracy: 0.9261\n",
            "Epoch 18/20\n",
            "1875/1875 [==============================] - 7s 4ms/step - loss: 0.1858 - accuracy: 0.9308\n",
            "Epoch 19/20\n",
            "1875/1875 [==============================] - 7s 3ms/step - loss: 0.1832 - accuracy: 0.9303\n",
            "Epoch 20/20\n",
            "1875/1875 [==============================] - 6s 3ms/step - loss: 0.1782 - accuracy: 0.9325\n",
            "313/313 [==============================] - 1s 2ms/step - loss: 0.3462 - accuracy: 0.8907\n"
          ]
        },
        {
          "output_type": "execute_result",
          "data": {
            "text/plain": [
              "[0.3461932837963104, 0.8906999826431274]"
            ]
          },
          "metadata": {},
          "execution_count": 146
        }
      ],
      "source": [
        "#This function is to compile the model with best parameters \n",
        "model.compile(optimizer='adam', loss='sparse_categorical_crossentropy', metrics=['accuracy']) \n",
        "\n",
        "#Fitting the model with the given training images and the corresponding labels\n",
        "hist=model.fit(train_images,train_labels,epochs=20)\n",
        "\n",
        "#Evaluating the model on how best it give for training and testing data test\n",
        "model.evaluate(test_images,test_labels)"
      ]
    },
    {
      "cell_type": "markdown",
      "source": [
        "**Implementing Convolution Layers**\n",
        "\n",
        "We perform convolution with the group of pixels which enhances the image which we have already studied in Computer Vision and Image Analysis for e.g. we take a 3x3 pixel matrix from the given image and we convolute with sobel operator mask of 3x3 which we get a enhanced image.\n",
        "\n",
        "This is mainly done to make computationally faster and reduce the size of the image.\n",
        "\n",
        "**Pooling**\n",
        "\n",
        "In this we choose the max value and place it in the matrix."
      ],
      "metadata": {
        "id": "HuBVru3rohHz"
      }
    },
    {
      "cell_type": "code",
      "source": [
        "model1=keras.Sequential([\n",
        "    keras.layers.Conv2D(64,(3,3),activation='relu',input_shape=(28,28,1)), # Performing the convolution\n",
        "    keras.layers.MaxPool2D(2,2),                                           # Performing the pooling\n",
        "    keras.layers.Conv2D(64,(3,3),activation='relu',input_shape=(28,28,1)),\n",
        "    keras.layers.MaxPool2D(2,2),\n",
        "    keras.layers.Flatten(input_shape=(28,28)), # The size of the image 28x28 pixels\n",
        "    keras.layers.Dense(units=128,activation=tf.nn.relu), # There are 128 units inside\n",
        "    keras.layers.Dense(units=10,activation=tf.nn.softmax) # The output is for classifying 10 so we give units as 10\n",
        "])\n",
        "\n",
        "\n",
        "# to get the summary of the sequential layer \n",
        "model1.summary()"
      ],
      "metadata": {
        "id": "0Sg8hqqaoYj0"
      },
      "execution_count": null,
      "outputs": []
    },
    {
      "cell_type": "code",
      "source": [
        "#This function is to compile the model with best parameters \n",
        "model1.compile(optimizer='adam', loss='sparse_categorical_crossentropy', metrics=['accuracy']) \n",
        "\n",
        "#Fitting the model with the given training images and the corresponding labels\n",
        "hist1=model1.fit(train_images,train_labels,epochs=20)\n",
        "\n",
        "#Evaluating the model on how best it give for training and testing data test\n",
        "model1.evaluate(test_images,test_labels)"
      ],
      "metadata": {
        "id": "13CwpE3WouHy"
      },
      "execution_count": null,
      "outputs": []
    },
    {
      "cell_type": "code",
      "source": [
        "# Plotting the data\n",
        "plt.plot(hist.history['loss'], 'b-', label='train loss')\n",
        "plt.ylabel('Loss')\n",
        "plt.xlabel('Epoch')\n",
        "plt.show()\n",
        "\n",
        "plt.plot(hist.history['accuracy'], 'b-', label='train accuracy')\n",
        "plt.ylabel('Accuracy')\n",
        "plt.xlabel('Epoch')\n",
        "plt.show()"
      ],
      "metadata": {
        "colab": {
          "base_uri": "https://localhost:8080/",
          "height": 541
        },
        "id": "2eHas534V5Ol",
        "outputId": "62d8f45b-673c-452a-d43f-a84b06f9dc4f"
      },
      "execution_count": 147,
      "outputs": [
        {
          "output_type": "display_data",
          "data": {
            "text/plain": [
              "<Figure size 432x288 with 1 Axes>"
            ],
            "image/png": "[encoded data removed]"
          },
          "metadata": {
            "needs_background": "light"
          }
        },
        {
          "output_type": "display_data",
          "data": {
            "text/plain": [
              "<Figure size 432x288 with 1 Axes>"
            ],
            "image/png": "[encoded data removed]"
          },
          "metadata": {
            "needs_background": "light"
          }
        }
      ]
    },
    {
      "cell_type": "code",
      "execution_count": 153,
      "metadata": {
        "colab": {
          "base_uri": "https://localhost:8080/"
        },
        "id": "7Ab8uZTzzBuu",
        "outputId": "dfaf4bc0-d628-4d1f-cbc0-65da54554c5d"
      },
      "outputs": [
        {
          "output_type": "stream",
          "name": "stdout",
          "text": [
            "313/313 [==============================] - 1s 3ms/step\n",
            "\n",
            "probability values of classifying particular image: \n",
            "[1.4853880e-06 7.5129890e-08 2.1333251e-02 3.4691516e-10 9.7499186e-01\n",
            " 6.6279312e-14 3.6732119e-03 1.0416982e-13 2.8059959e-12 3.6445704e-09]\n",
            "\n",
            "The predicted Image belongs to the label 4\n",
            "The Actual Output of the image belongs to label:  4\n"
          ]
        }
      ],
      "source": [
        "# Predicting the outputs for Test images\n",
        "classifications = model.predict(test_images)\n",
        "\n",
        "prob_values=classifications[10]\n",
        "print(\"\\nprobability values of classifying particular image: \")\n",
        "print(prob_values)\n",
        "\n",
        "# We find the max probability value among the list to which the image image belongs to \n",
        "prob_values=prob_values.tolist()\n",
        "print(\"\\nThe predicted Image belongs to the label {val}\".format(val=(prob_values.index(max(prob_values)))))\n",
        "print(\"The Actual Output of the image belongs to label: \",test_labels[10])"
      ]
    },
    {
      "cell_type": "code",
      "source": [
        "# This is to predict the image from downloaded image\n",
        "bag=Image.open('download.jpg')\n",
        "\n",
        "# Convert the image to grayscale\n",
        "bag=ImageOps.grayscale(bag)\n",
        "\n",
        "print(bag.size)\n",
        "\n",
        "arr=np.asarray(bag)\n",
        "arr=arr/255.0\n",
        "\n",
        "\n",
        "\n",
        "# This is to predict single image in the MNIST dataset\n",
        "img=test_images[10]\n",
        "prob=model.predict(img)\n",
        "print(prob)\n",
        "print(max(prob[0]))"
      ],
      "metadata": {
        "colab": {
          "base_uri": "https://localhost:8080/"
        },
        "id": "byJU3enTjpPJ",
        "outputId": "deb2ee21-b6e0-410f-e373-4fc98ce69e13"
      },
      "execution_count": 160,
      "outputs": [
        {
          "output_type": "stream",
          "name": "stdout",
          "text": [
            "(28, 19)\n",
            "1/1 [==============================] - 0s 32ms/step\n",
            "[[1.4853911e-06 7.5130039e-08 2.1333294e-02 3.4691652e-10 9.7499192e-01\n",
            "  6.6279440e-14 3.6732121e-03 1.0417002e-13 2.8060013e-12 3.6445706e-09]]\n",
            "0.9749919\n"
          ]
        }
      ]
    },
    {
      "cell_type": "code",
      "source": [
        "\n",
        "arr=test_images[3]\n",
        "arr=arr*255.0\n",
        "\n",
        "img=Image.fromarray(arr)\n",
        "img.show()"
      ],
      "metadata": {
        "id": "SMK6BJ8iQPxo"
      },
      "execution_count": 72,
      "outputs": []
    },
    {
      "cell_type": "code",
      "source": [
        "plt.imshow(img, interpolation='nearest')\n",
        "plt.show()"
      ],
      "metadata": {
        "colab": {
          "base_uri": "https://localhost:8080/",
          "height": 265
        },
        "id": "FEsUI5EcTSmu",
        "outputId": "39172a51-f22a-4d92-a24e-de181ee828c6"
      },
      "execution_count": 73,
      "outputs": [
        {
          "output_type": "display_data",
          "data": {
            "text/plain": [
              "<Figure size 432x288 with 1 Axes>"
            ],
            "image/png": "[encoded data removed]"
          },
          "metadata": {
            "needs_background": "light"
          }
        }
      ]
    }
  ],
  "metadata": {
    "colab": {
      "provenance": []
    },
    "kernelspec": {
      "display_name": "Python 3",
      "name": "python3"
    },
    "language_info": {
      "name": "python"
    }
  },
  "nbformat": 4,
  "nbformat_minor": 0
}